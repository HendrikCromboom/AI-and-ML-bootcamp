{
 "cells": [
  {
   "cell_type": "code",
   "execution_count": 1,
   "id": "cf19772d",
   "metadata": {},
   "outputs": [],
   "source": [
    "import numpy as np"
   ]
  },
  {
   "cell_type": "code",
   "execution_count": 13,
   "id": "1d5acc0b",
   "metadata": {},
   "outputs": [
    {
     "name": "stdout",
     "output_type": "stream",
     "text": [
      "[[ 1  2  2  2]\n",
      " [ 2  4  6  8]\n",
      " [ 3  6  8 10]]\n",
      "[[1 2 2 2]\n",
      " [0 0 2 4]\n",
      " [0 0 2 4]]\n",
      "[[1 2 2 2]\n",
      " [0 0 2 4]\n",
      " [0 0 0 0]]\n",
      "['x1' '1' 'x3' '0']\n"
     ]
    }
   ],
   "source": [
    "#Solving AX=0\n",
    "A1 = np.array([[1,2,2,2],[2,4,6,8],[3,6,8,10]])\n",
    "print(A1)\n",
    "#Elimination, skipping 0 as pivots\n",
    "A1[1] -= 2 * A1[0]\n",
    "A1[2] -= 3 * A1[0]\n",
    "print(A1)\n",
    "#And again but this time we shift the pivot because it cant be 0\n",
    "A1[2] -= A1[1]\n",
    "print(A1)\n",
    "# [1,1] and [2,3] are our pivots here => rank = 2 and we will have 2 free rows, thus we have 2 special solutions\n",
    "# We can choose arbitrary values for the free rows, these become our special solutions, example:\n",
    "Special1 = np.array(['x1', 1, 'x3', 0])\n",
    "Special2 = np.array(['x1', 0, 'x3', 1])\n",
    "print(Special1)\n",
    "print(Special2)\n"
   ]
  },
  {
   "cell_type": "code",
   "execution_count": null,
   "id": "2c98c04d",
   "metadata": {},
   "outputs": [],
   "source": []
  }
 ],
 "metadata": {
  "kernelspec": {
   "display_name": "Python 3 (ipykernel)",
   "language": "python",
   "name": "python3"
  },
  "language_info": {
   "codemirror_mode": {
    "name": "ipython",
    "version": 3
   },
   "file_extension": ".py",
   "mimetype": "text/x-python",
   "name": "python",
   "nbconvert_exporter": "python",
   "pygments_lexer": "ipython3",
   "version": "3.12.3"
  }
 },
 "nbformat": 4,
 "nbformat_minor": 5
}
