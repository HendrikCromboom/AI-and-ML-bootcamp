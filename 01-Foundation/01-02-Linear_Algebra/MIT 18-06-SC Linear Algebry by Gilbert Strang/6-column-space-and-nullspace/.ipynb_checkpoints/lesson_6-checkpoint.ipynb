{
 "cells": [
  {
   "cell_type": "code",
   "execution_count": 19,
   "id": "39a22bfd",
   "metadata": {},
   "outputs": [],
   "source": [
    "import numpy as np\n",
    "from numpy.linalg import solve"
   ]
  },
  {
   "cell_type": "code",
   "execution_count": 25,
   "id": "8104886f",
   "metadata": {},
   "outputs": [
    {
     "name": "stdout",
     "output_type": "stream",
     "text": [
      "[[1 1 2]\n",
      " [2 1 3]\n",
      " [3 1 4]\n",
      " [4 1 5]]\n",
      "[1 2 3 4]\n"
     ]
    }
   ],
   "source": [
    "A1 = np.array([[1,1,2],[2,1,3],[3,1,4],[4,1,5]])\n",
    "print(A1)\n",
    "#Can only be solved for AX=b if b is within it's collumn space\n",
    "b1 = np.array([1,2,3,4])\n",
    "print(b1)\n",
    "#I will have to come back to this lecture once I have increased knowledge of the operations that allow me to formulate collumn and row spaces"
   ]
  },
  {
   "cell_type": "code",
   "execution_count": null,
   "id": "20ee424d",
   "metadata": {},
   "outputs": [],
   "source": []
  }
 ],
 "metadata": {
  "kernelspec": {
   "display_name": "Python 3 (ipykernel)",
   "language": "python",
   "name": "python3"
  },
  "language_info": {
   "codemirror_mode": {
    "name": "ipython",
    "version": 3
   },
   "file_extension": ".py",
   "mimetype": "text/x-python",
   "name": "python",
   "nbconvert_exporter": "python",
   "pygments_lexer": "ipython3",
   "version": "3.12.3"
  }
 },
 "nbformat": 4,
 "nbformat_minor": 5
}
