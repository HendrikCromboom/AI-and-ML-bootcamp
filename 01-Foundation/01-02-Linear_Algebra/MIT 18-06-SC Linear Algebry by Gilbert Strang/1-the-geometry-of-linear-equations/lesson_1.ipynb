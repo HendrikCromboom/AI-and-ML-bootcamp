{
 "cells": [
  {
   "cell_type": "code",
   "execution_count": 2,
   "id": "b2ddc53d",
   "metadata": {},
   "outputs": [],
   "source": [
    "import numpy as np"
   ]
  },
  {
   "cell_type": "code",
   "execution_count": 13,
   "id": "90815f9b",
   "metadata": {},
   "outputs": [
    {
     "name": "stdout",
     "output_type": "stream",
     "text": [
      "[[ 2 -1]\n",
      " [-1  2]]\n",
      "[['x']\n",
      " ['y']]\n",
      "[[0]\n",
      " [3]]\n",
      "[[ 2 -1]\n",
      " [-1  2]]\n",
      "[0 3]\n",
      "[1. 2.]\n"
     ]
    }
   ],
   "source": [
    "#Example 1:\n",
    "# 2x-y = 0\n",
    "# -x + 2y = 3\n",
    "# A X = b\n",
    "A1 = np.array([[2,-1],[-1,2]])\n",
    "print(A1)\n",
    "X1 = np.array([[\"x\"],[\"y\"]])\n",
    "print(X1)\n",
    "b1 = np.array([[0],[3]])\n",
    "print(b1)\n",
    "#In numpy these will be represented as follows:\n",
    "A1 = np.array([[2,-1],[-1,2]])\n",
    "print(A1)\n",
    "b1 = np.array([0,3])\n",
    "print(b1)\n",
    "#And solved as follows:\n",
    "print(np.linalg.solve(A1,b1))"
   ]
  },
  {
   "cell_type": "code",
   "execution_count": 20,
   "id": "bd46dbb0",
   "metadata": {},
   "outputs": [
    {
     "data": {
      "text/plain": [
       "array([0., 0., 1.])"
      ]
     },
     "execution_count": 20,
     "metadata": {},
     "output_type": "execute_result"
    }
   ],
   "source": [
    "#For ease of use:\n",
    "from numpy.linalg import solve\n",
    "#Example 2:\n",
    "A2 = np.array([[2,-1,0],[-1,2,-1],[0,-3,4]])\n",
    "b2 = np.array([0,-1,4])\n",
    "solve(A2,b2)"
   ]
  },
  {
   "cell_type": "code",
   "execution_count": null,
   "id": "b78363fb",
   "metadata": {},
   "outputs": [],
   "source": []
  }
 ],
 "metadata": {
  "kernelspec": {
   "display_name": "Python 3 (ipykernel)",
   "language": "python",
   "name": "python3"
  },
  "language_info": {
   "codemirror_mode": {
    "name": "ipython",
    "version": 3
   },
   "file_extension": ".py",
   "mimetype": "text/x-python",
   "name": "python",
   "nbconvert_exporter": "python",
   "pygments_lexer": "ipython3",
   "version": "3.12.3"
  }
 },
 "nbformat": 4,
 "nbformat_minor": 5
}
