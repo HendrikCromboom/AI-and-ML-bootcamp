{
 "cells": [
  {
   "cell_type": "code",
   "execution_count": 1,
   "id": "89e891a0",
   "metadata": {},
   "outputs": [],
   "source": [
    "import numpy as np"
   ]
  },
  {
   "cell_type": "code",
   "execution_count": 10,
   "id": "7e1e5a4e",
   "metadata": {},
   "outputs": [
    {
     "name": "stdout",
     "output_type": "stream",
     "text": [
      "[[2 1]\n",
      " [8 7]]\n",
      "[[ 1.  0.]\n",
      " [-4.  1.]]\n",
      "[[2. 1.]\n",
      " [0. 3.]]\n",
      "[[1. 0.]\n",
      " [4. 1.]]\n",
      "[[2. 1.]\n",
      " [8. 7.]]\n"
     ]
    }
   ],
   "source": [
    "A1 = np.array([[2,1],[8,7]])\n",
    "print(A1)\n",
    "I = np.identity(2)\n",
    "E21 = np.copy(I)\n",
    "E21[1,0] = -4\n",
    "print(E21)\n",
    "U = E21 @ A1\n",
    "print(U)\n",
    "#If we move E over to the other side, E @ A = U => A = L @ U\n",
    "L = np.copy(E21)\n",
    "#L is the invers of E(all Es)\n",
    "L[1,0] = L[1,0] * -1\n",
    "print(L)\n",
    "print(L @ U)"
   ]
  },
  {
   "cell_type": "code",
   "execution_count": 14,
   "id": "e58e3a41",
   "metadata": {},
   "outputs": [
    {
     "name": "stdout",
     "output_type": "stream",
     "text": [
      "[[ 1.  0.  0.]\n",
      " [ 0.  1.  0.]\n",
      " [ 0. -5.  1.]]\n",
      "[[ 1.  0.  0.]\n",
      " [-2.  1.  0.]\n",
      " [10. -5.  1.]]\n",
      "[[1. 0. 0.]\n",
      " [2. 1. 0.]\n",
      " [0. 5. 1.]]\n"
     ]
    }
   ],
   "source": [
    "#The most important reason to do this is that it keeps E consisting of multiples Es clean\n",
    "I  = np.identity(3)\n",
    "E32 = np.copy(I)\n",
    "E32[2,1] = -5\n",
    "print(E32)\n",
    "E21 = np.copy(I)\n",
    "E21[1,0] = -2\n",
    "E = E32 @ E21\n",
    "#The extra 10 in the bottom left position is unwanted\n",
    "print(E)\n",
    "#Since E32 @ E21 @ A = U = > A = E21-1 @ E32-1 @ U\n",
    "L = np.linalg.inv(E21) @ np.linalg.inv(E32)\n",
    "print(L)\n",
    "#Just a 0 in the bottom left for the inverse"
   ]
  },
  {
   "cell_type": "code",
   "execution_count": null,
   "id": "c0df7df1",
   "metadata": {},
   "outputs": [],
   "source": []
  }
 ],
 "metadata": {
  "kernelspec": {
   "display_name": "Python 3 (ipykernel)",
   "language": "python",
   "name": "python3"
  },
  "language_info": {
   "codemirror_mode": {
    "name": "ipython",
    "version": 3
   },
   "file_extension": ".py",
   "mimetype": "text/x-python",
   "name": "python",
   "nbconvert_exporter": "python",
   "pygments_lexer": "ipython3",
   "version": "3.12.3"
  }
 },
 "nbformat": 4,
 "nbformat_minor": 5
}
