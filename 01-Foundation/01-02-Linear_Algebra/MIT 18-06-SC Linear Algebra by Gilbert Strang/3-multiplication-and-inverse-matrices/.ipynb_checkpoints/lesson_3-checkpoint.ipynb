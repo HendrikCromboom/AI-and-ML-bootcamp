{
 "cells": [
  {
   "cell_type": "code",
   "execution_count": 1,
   "id": "cb445800",
   "metadata": {},
   "outputs": [],
   "source": [
    "import numpy as np"
   ]
  },
  {
   "cell_type": "code",
   "execution_count": 13,
   "id": "ae3012c5",
   "metadata": {},
   "outputs": [
    {
     "name": "stdout",
     "output_type": "stream",
     "text": [
      "[[1 3]\n",
      " [2 7]]\n",
      "[[1. 0.]\n",
      " [0. 1.]]\n",
      "[[1. 3. 1. 0.]\n",
      " [2. 7. 0. 1.]]\n",
      "[[ 1.  0.]\n",
      " [-2.  1.]]\n",
      "[[ 1.  3.  1.  0.]\n",
      " [ 0.  1. -2.  1.]]\n",
      "[[ 1.  0.  7. -3.]\n",
      " [ 0.  1. -2.  1.]]\n"
     ]
    }
   ],
   "source": [
    "#Finding the inverse step by step\n",
    "A1 = np.array([[1,3],[2,7]])\n",
    "print(A1)\n",
    "I = np.identity(2)\n",
    "print(I)\n",
    "A1_a_I = np.hstack((A1,I))\n",
    "print(A1_a_I)\n",
    "E21 = np.copy(I)\n",
    "E21[1,0] = -2\n",
    "print(E21)\n",
    "result = E21 @ A1_a_I\n",
    "print(result)\n",
    "E12 = np.copy(I)\n",
    "E12[0,1] = -3\n",
    "result = E12 @ result\n",
    "print(result)"
   ]
  },
  {
   "cell_type": "code",
   "execution_count": null,
   "id": "0bb68b18",
   "metadata": {},
   "outputs": [],
   "source": []
  }
 ],
 "metadata": {
  "kernelspec": {
   "display_name": "Python 3 (ipykernel)",
   "language": "python",
   "name": "python3"
  },
  "language_info": {
   "codemirror_mode": {
    "name": "ipython",
    "version": 3
   },
   "file_extension": ".py",
   "mimetype": "text/x-python",
   "name": "python",
   "nbconvert_exporter": "python",
   "pygments_lexer": "ipython3",
   "version": "3.12.3"
  }
 },
 "nbformat": 4,
 "nbformat_minor": 5
}
