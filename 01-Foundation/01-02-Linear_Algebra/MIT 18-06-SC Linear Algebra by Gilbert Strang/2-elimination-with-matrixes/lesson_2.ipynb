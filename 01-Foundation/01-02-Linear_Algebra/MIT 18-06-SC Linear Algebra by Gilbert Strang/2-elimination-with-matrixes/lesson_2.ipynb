{
 "cells": [
  {
   "cell_type": "code",
   "execution_count": 3,
   "id": "4440f2d1",
   "metadata": {},
   "outputs": [],
   "source": [
    "import numpy as np\n",
    "from numpy.linalg import solve"
   ]
  },
  {
   "cell_type": "code",
   "execution_count": 6,
   "id": "437fcc11",
   "metadata": {},
   "outputs": [
    {
     "data": {
      "text/plain": [
       "array([ 2.,  1., -2.])"
      ]
     },
     "execution_count": 6,
     "metadata": {},
     "output_type": "execute_result"
    }
   ],
   "source": [
    "A1 = np.array([[1,2,1],[3,8,1],[0,4,1]])\n",
    "b1 = np.array([2,12,2])\n",
    "solve(A1,b1)"
   ]
  },
  {
   "cell_type": "code",
   "execution_count": 44,
   "id": "ce7c1b10",
   "metadata": {},
   "outputs": [
    {
     "name": "stdout",
     "output_type": "stream",
     "text": [
      "[[1. 0. 0.]\n",
      " [0. 1. 0.]\n",
      " [0. 0. 1.]]\n",
      "[[ 1.  0.  0.]\n",
      " [-3.  1.  0.]\n",
      " [ 0.  0.  1.]]\n",
      "[[ 1.  0.  0.]\n",
      " [ 0.  1.  0.]\n",
      " [ 0. -2.  1.]]\n",
      "[[ 1.  2.  1.]\n",
      " [ 0.  2. -2.]\n",
      " [ 0.  4.  1.]]\n",
      "[[ 1.  2.  1.]\n",
      " [ 0.  2. -2.]\n",
      " [ 0.  0.  5.]]\n"
     ]
    }
   ],
   "source": [
    "#Identity Matrix\n",
    "I = np.identity(3)\n",
    "print(I)\n",
    "#Elimination matrix 2,1 -> in python this is 0,1\n",
    "E21 = np.copy(I)\n",
    "E21[1,0] = -3\n",
    "print(E21)\n",
    "#Elimination matrix 3,2\n",
    "E32 = np.copy(I)\n",
    "E32[2,1] = -2\n",
    "print(E32)\n",
    "#To verify\n",
    "result_step_1 = E21 @ A1\n",
    "print(result_step_1)\n",
    "result_step_2 = E32 @ result_step_1\n",
    "print(result_step_2)"
   ]
  },
  {
   "cell_type": "code",
   "execution_count": 38,
   "id": "da043392",
   "metadata": {},
   "outputs": [
    {
     "name": "stdout",
     "output_type": "stream",
     "text": [
      "[[ 1.  0.  0.]\n",
      " [-3.  1.  0.]\n",
      " [ 0.  0.  1.]]\n",
      "[[1. 0. 0.]\n",
      " [3. 1. 0.]\n",
      " [0. 0. 1.]]\n",
      "[[1. 0. 0.]\n",
      " [0. 1. 0.]\n",
      " [0. 0. 1.]]\n"
     ]
    }
   ],
   "source": [
    "#Sneak peak at the next lesson:\n",
    "print(E21)\n",
    "#To get the inverse of E21, you would have to add 3 times instead of substract\n",
    "Emin1 = I\n",
    "Emin1[1,0] = 3\n",
    "print(Emin1)\n",
    "result_inverse = Emin1 @ E21\n",
    "print(result_inverse)"
   ]
  },
  {
   "cell_type": "code",
   "execution_count": 41,
   "id": "bb9448f7",
   "metadata": {},
   "outputs": [
    {
     "name": "stdout",
     "output_type": "stream",
     "text": [
      "[[ 1 -1 -1  1]\n",
      " [ 2  0  2  0]\n",
      " [ 0 -1 -2  0]\n",
      " [ 3 -3 -2  4]]\n"
     ]
    },
    {
     "data": {
      "text/plain": [
       "array([1., 2., 3., 4.])"
      ]
     },
     "execution_count": 41,
     "metadata": {},
     "output_type": "execute_result"
    }
   ],
   "source": [
    "#Rec\n",
    "A2 = np.array([[1,-1,-1,1],[2,0,2,0],[0,-1,-2,0],[3,-3,-2,4]])\n",
    "print(A2)\n",
    "b2 = np.array([0,8,-8,7])\n",
    "solve(A2,b2)"
   ]
  },
  {
   "cell_type": "code",
   "execution_count": 97,
   "id": "615dc063",
   "metadata": {},
   "outputs": [
    {
     "name": "stdout",
     "output_type": "stream",
     "text": [
      "[[1. 0. 0. 0.]\n",
      " [0. 1. 0. 0.]\n",
      " [0. 0. 1. 0.]\n",
      " [0. 0. 0. 1.]]\n",
      "[[ 1.  0.  0.  0.]\n",
      " [-2.  1.  0.  0.]\n",
      " [ 0.  0.  1.  0.]\n",
      " [-3.  0.  0.  1.]]\n",
      "[[1.  0.  0.  0. ]\n",
      " [0.  1.  0.  0. ]\n",
      " [0.  0.5 1.  0. ]\n",
      " [0.  0.  0.  1. ]]\n",
      "[[1. 0. 0. 0.]\n",
      " [0. 1. 0. 0.]\n",
      " [0. 0. 0. 1.]\n",
      " [0. 0. 1. 0.]]\n",
      "[[ 1. -1. -1.  1.]\n",
      " [ 0.  2.  4. -2.]\n",
      " [ 0.  0.  1.  1.]\n",
      " [ 0.  0.  0. -1.]]\n",
      "[ 0.  8.  7. -4.]\n"
     ]
    },
    {
     "data": {
      "text/plain": [
       "array([1., 2., 3., 4.])"
      ]
     },
     "execution_count": 97,
     "metadata": {},
     "output_type": "execute_result"
    }
   ],
   "source": [
    "#Or applying it fully like on paper\n",
    "I = np.identity(4)\n",
    "print(I)\n",
    "E21 = np.copy(I)\n",
    "E21[1,0] = -2\n",
    "E21[3,0] = -3\n",
    "print(E21)\n",
    "E32 = np.copy(I)\n",
    "E32[2,1] = 1/2\n",
    "print(E32)\n",
    "Eswap = np.copy(I)\n",
    "Eswap[[2,3]] = Eswap[[3, 2]]\n",
    "print(Eswap)\n",
    "Result = Eswap @ E32 @ E21 @ A2\n",
    "print(Result)\n",
    "Right_Hand = Eswap @ E32 @ E21 @ b2\n",
    "print(Right_Hand)\n",
    "solve(Result, Right_Hand)"
   ]
  },
  {
   "cell_type": "code",
   "execution_count": 102,
   "id": "cb600527",
   "metadata": {},
   "outputs": [
    {
     "name": "stdout",
     "output_type": "stream",
     "text": [
      "[[ 1 -1 -1  1  0]\n",
      " [ 2  0  2  0  8]\n",
      " [ 0 -1 -2  0 -8]\n",
      " [ 3 -3 -2  4  7]]\n",
      "[[ 1. -1. -1.  1.  0.]\n",
      " [ 0.  2.  4. -2.  8.]\n",
      " [ 0.  0.  1.  1.  7.]\n",
      " [ 0.  0.  0. -1. -4.]]\n",
      "[ 0.  8.  7. -4.]\n",
      "[[ 1. -1. -1.  1.]\n",
      " [ 0.  2.  4. -2.]\n",
      " [ 0.  0.  1.  1.]\n",
      " [ 0.  0.  0. -1.]]\n"
     ]
    },
    {
     "data": {
      "text/plain": [
       "array([1., 2., 3., 4.])"
      ]
     },
     "execution_count": 102,
     "metadata": {},
     "output_type": "execute_result"
    }
   ],
   "source": [
    "#And it would look like this permutated, this isn't per say useful but it shows you that the last added collumn remains unchanged in similar opperations\n",
    "b_collumn = np.array([[0],[8],[-8],[7]])\n",
    "A_p = np.hstack((A2, b_collumn))\n",
    "print(A_p)\n",
    "Permutated_Result = Eswap @ E32 @ E21 @ A_p\n",
    "print(Permutated_Result)\n",
    "#slicing a collumn\n",
    "slice = Permutated_Result[:,4]\n",
    "print(slice)\n",
    "#removing a collumn\n",
    "Sliced_Result = np.delete(Permutated_Result, 4, axis=1)\n",
    "print(Sliced_Result)\n",
    "solve(Sliced_Result, slice)"
   ]
  },
  {
   "cell_type": "code",
   "execution_count": null,
   "id": "dc6dd4fd",
   "metadata": {},
   "outputs": [],
   "source": []
  }
 ],
 "metadata": {
  "kernelspec": {
   "display_name": "Python 3 (ipykernel)",
   "language": "python",
   "name": "python3"
  },
  "language_info": {
   "codemirror_mode": {
    "name": "ipython",
    "version": 3
   },
   "file_extension": ".py",
   "mimetype": "text/x-python",
   "name": "python",
   "nbconvert_exporter": "python",
   "pygments_lexer": "ipython3",
   "version": "3.12.3"
  }
 },
 "nbformat": 4,
 "nbformat_minor": 5
}
