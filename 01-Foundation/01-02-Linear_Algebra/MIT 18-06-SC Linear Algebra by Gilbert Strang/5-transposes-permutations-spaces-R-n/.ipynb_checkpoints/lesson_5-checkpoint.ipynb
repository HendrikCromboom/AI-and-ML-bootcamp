{
 "cells": [
  {
   "cell_type": "code",
   "execution_count": 1,
   "id": "5630364f",
   "metadata": {},
   "outputs": [],
   "source": [
    "import numpy as np"
   ]
  },
  {
   "cell_type": "code",
   "execution_count": 7,
   "id": "8b91c112",
   "metadata": {},
   "outputs": [
    {
     "name": "stdout",
     "output_type": "stream",
     "text": [
      "[[1 3]\n",
      " [2 3]\n",
      " [4 1]]\n",
      "[[1 2 4]\n",
      " [3 3 1]]\n",
      "[[10 11  7]\n",
      " [11 13 11]\n",
      " [ 7 11 17]]\n",
      "[[10 11  7]\n",
      " [11 13 11]\n",
      " [ 7 11 17]]\n"
     ]
    }
   ],
   "source": [
    "A1 = np.array([[1,3],[2,3],[4,1]])\n",
    "print(A1)\n",
    "A_to_T = np.transpose(A1)\n",
    "print(A_to_T)\n",
    "#Multiplying A by its Transpose always gives a symetric matrix\n",
    "result = A1 @ A_to_T\n",
    "print(result)\n",
    "#Symetric matrices are equal to their transpose\n",
    "print(np.transpose(result))"
   ]
  },
  {
   "cell_type": "code",
   "execution_count": null,
   "id": "7a60c98d",
   "metadata": {},
   "outputs": [],
   "source": []
  }
 ],
 "metadata": {
  "kernelspec": {
   "display_name": "Python 3 (ipykernel)",
   "language": "python",
   "name": "python3"
  },
  "language_info": {
   "codemirror_mode": {
    "name": "ipython",
    "version": 3
   },
   "file_extension": ".py",
   "mimetype": "text/x-python",
   "name": "python",
   "nbconvert_exporter": "python",
   "pygments_lexer": "ipython3",
   "version": "3.12.3"
  }
 },
 "nbformat": 4,
 "nbformat_minor": 5
}
