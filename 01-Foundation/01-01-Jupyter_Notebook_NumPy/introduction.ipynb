{
 "cells": [
  {
   "cell_type": "code",
   "execution_count": 1,
   "id": "28df496f",
   "metadata": {},
   "outputs": [],
   "source": [
    "#Import statements\n",
    "import numpy as np"
   ]
  },
  {
   "cell_type": "code",
   "execution_count": 11,
   "id": "e20c769f",
   "metadata": {},
   "outputs": [
    {
     "name": "stdout",
     "output_type": "stream",
     "text": [
      "[1 2 3]\n"
     ]
    }
   ],
   "source": [
    "#Numpy Array\n",
    "x1 = np.array([1,2,3])\n",
    "print(x1)"
   ]
  },
  {
   "cell_type": "code",
   "execution_count": 29,
   "id": "1392ad31",
   "metadata": {},
   "outputs": [
    {
     "name": "stdout",
     "output_type": "stream",
     "text": [
      "[[1 2 3 4]\n",
      " [0 8 0 9]]\n"
     ]
    }
   ],
   "source": [
    "#Multiple Dimension array\n",
    "x2 = np.array([[1,2,3,4],[0,8,0,9]])\n",
    "print(x2)"
   ]
  },
  {
   "cell_type": "code",
   "execution_count": 17,
   "id": "a7dbcf71",
   "metadata": {},
   "outputs": [
    {
     "data": {
      "text/plain": [
       "1"
      ]
     },
     "execution_count": 17,
     "metadata": {},
     "output_type": "execute_result"
    }
   ],
   "source": [
    "#Get dimmension\n",
    "x1.ndim"
   ]
  },
  {
   "cell_type": "code",
   "execution_count": 18,
   "id": "1f9640e3",
   "metadata": {},
   "outputs": [
    {
     "data": {
      "text/plain": [
       "(2, 4)"
      ]
     },
     "execution_count": 18,
     "metadata": {},
     "output_type": "execute_result"
    }
   ],
   "source": [
    "#Get shape\n",
    "x2.shape"
   ]
  },
  {
   "cell_type": "code",
   "execution_count": 20,
   "id": "8a969857",
   "metadata": {},
   "outputs": [
    {
     "data": {
      "text/plain": [
       "dtype('int64')"
      ]
     },
     "execution_count": 20,
     "metadata": {},
     "output_type": "execute_result"
    }
   ],
   "source": [
    "#Get data type\n",
    "x1.dtype"
   ]
  },
  {
   "cell_type": "code",
   "execution_count": 21,
   "id": "cf2b42be",
   "metadata": {},
   "outputs": [
    {
     "data": {
      "text/plain": [
       "8"
      ]
     },
     "execution_count": 21,
     "metadata": {},
     "output_type": "execute_result"
    }
   ],
   "source": [
    "#Get itemsize\n",
    "x2.itemsize"
   ]
  },
  {
   "cell_type": "code",
   "execution_count": 25,
   "id": "935c2d86",
   "metadata": {},
   "outputs": [
    {
     "data": {
      "text/plain": [
       "dtype('int32')"
      ]
     },
     "execution_count": 25,
     "metadata": {},
     "output_type": "execute_result"
    }
   ],
   "source": [
    "#Set datatype\n",
    "x3 = np.array([1,2,3], dtype='int32')\n",
    "x3.dtype"
   ]
  },
  {
   "cell_type": "code",
   "execution_count": 26,
   "id": "dd63c48b",
   "metadata": {},
   "outputs": [
    {
     "data": {
      "text/plain": [
       "64"
      ]
     },
     "execution_count": 26,
     "metadata": {},
     "output_type": "execute_result"
    }
   ],
   "source": [
    "#Get total bytes\n",
    "x2.nbytes"
   ]
  },
  {
   "cell_type": "code",
   "execution_count": 31,
   "id": "6f0aa362",
   "metadata": {},
   "outputs": [
    {
     "data": {
      "text/plain": [
       "8"
      ]
     },
     "execution_count": 31,
     "metadata": {},
     "output_type": "execute_result"
    }
   ],
   "source": [
    "#Get element\n",
    "x2[1,1]"
   ]
  },
  {
   "cell_type": "code",
   "execution_count": 32,
   "id": "a726d4f9",
   "metadata": {},
   "outputs": [
    {
     "data": {
      "text/plain": [
       "array([0, 8, 0, 9])"
      ]
     },
     "execution_count": 32,
     "metadata": {},
     "output_type": "execute_result"
    }
   ],
   "source": [
    "#Get row\n",
    "x2[1, :]"
   ]
  },
  {
   "cell_type": "code",
   "execution_count": 33,
   "id": "9ff013fc",
   "metadata": {},
   "outputs": [
    {
     "data": {
      "text/plain": [
       "array([2, 8])"
      ]
     },
     "execution_count": 33,
     "metadata": {},
     "output_type": "execute_result"
    }
   ],
   "source": [
    "#Get collumn\n",
    "x2[:, 1]"
   ]
  },
  {
   "cell_type": "code",
   "execution_count": 48,
   "id": "a2374324",
   "metadata": {},
   "outputs": [
    {
     "data": {
      "text/plain": [
       "array([8, 0])"
      ]
     },
     "execution_count": 48,
     "metadata": {},
     "output_type": "execute_result"
    }
   ],
   "source": [
    "#Get range of a row\n",
    "x2[1, 1:3]"
   ]
  },
  {
   "cell_type": "code",
   "execution_count": 50,
   "id": "bad51836",
   "metadata": {},
   "outputs": [
    {
     "name": "stdout",
     "output_type": "stream",
     "text": [
      "[[ 1  2  3  4]\n",
      " [ 0 17  0  9]]\n"
     ]
    }
   ],
   "source": [
    "#Edit element\n",
    "x2[1,1] = 17\n",
    "print(x2)"
   ]
  },
  {
   "cell_type": "code",
   "execution_count": 59,
   "id": "79d7ecc7",
   "metadata": {},
   "outputs": [
    {
     "data": {
      "text/plain": [
       "array([[[0., 0., 0.],\n",
       "        [0., 0., 0.],\n",
       "        [0., 0., 0.]],\n",
       "\n",
       "       [[0., 0., 0.],\n",
       "        [0., 0., 0.],\n",
       "        [0., 0., 0.]],\n",
       "\n",
       "       [[0., 0., 0.],\n",
       "        [0., 0., 0.],\n",
       "        [0., 0., 0.]]])"
      ]
     },
     "execution_count": 59,
     "metadata": {},
     "output_type": "execute_result"
    }
   ],
   "source": [
    "# Matrix of 0s\n",
    "np.zeros(3)\n",
    "np.zeros((3,3))\n",
    "np.zeros((3,3,3))"
   ]
  },
  {
   "cell_type": "code",
   "execution_count": 62,
   "id": "722610d9",
   "metadata": {},
   "outputs": [
    {
     "data": {
      "text/plain": [
       "array([[1., 1., 1., 1., 1.],\n",
       "       [1., 1., 1., 1., 1.],\n",
       "       [1., 1., 1., 1., 1.]])"
      ]
     },
     "execution_count": 62,
     "metadata": {},
     "output_type": "execute_result"
    }
   ],
   "source": [
    "#Ones\n",
    "np.ones((3,5))"
   ]
  },
  {
   "cell_type": "code",
   "execution_count": 65,
   "id": "3e26243e",
   "metadata": {},
   "outputs": [
    {
     "data": {
      "text/plain": [
       "array([[3, 3, 3, 3],\n",
       "       [3, 3, 3, 3]])"
      ]
     },
     "execution_count": 65,
     "metadata": {},
     "output_type": "execute_result"
    }
   ],
   "source": [
    "#Full like array\n",
    "np.full_like(x2, 3)"
   ]
  },
  {
   "cell_type": "code",
   "execution_count": 66,
   "id": "b62140bb",
   "metadata": {},
   "outputs": [
    {
     "data": {
      "text/plain": [
       "array([[0.86531041, 0.21172395, 0.05709066],\n",
       "       [0.60628829, 0.88486905, 0.80894706],\n",
       "       [0.29715764, 0.34967818, 0.30652342]])"
      ]
     },
     "execution_count": 66,
     "metadata": {},
     "output_type": "execute_result"
    }
   ],
   "source": [
    "#Random matrix\n",
    "np.random.rand(3,3)"
   ]
  },
  {
   "cell_type": "code",
   "execution_count": 67,
   "id": "93d2f142",
   "metadata": {},
   "outputs": [
    {
     "data": {
      "text/plain": [
       "array([[1, 9, 0],\n",
       "       [8, 7, 6],\n",
       "       [3, 4, 6]])"
      ]
     },
     "execution_count": 67,
     "metadata": {},
     "output_type": "execute_result"
    }
   ],
   "source": [
    "#Random int matrix\n",
    "np.random.randint(10, size=(3,3))"
   ]
  },
  {
   "cell_type": "code",
   "execution_count": 68,
   "id": "616e8eec",
   "metadata": {},
   "outputs": [
    {
     "data": {
      "text/plain": [
       "array([[1., 0., 0., 0., 0.],\n",
       "       [0., 1., 0., 0., 0.],\n",
       "       [0., 0., 1., 0., 0.],\n",
       "       [0., 0., 0., 1., 0.],\n",
       "       [0., 0., 0., 0., 1.]])"
      ]
     },
     "execution_count": 68,
     "metadata": {},
     "output_type": "execute_result"
    }
   ],
   "source": [
    "#Identity matrix\n",
    "np.identity(5)"
   ]
  },
  {
   "cell_type": "code",
   "execution_count": 73,
   "id": "fa5e5f3f",
   "metadata": {},
   "outputs": [
    {
     "name": "stdout",
     "output_type": "stream",
     "text": [
      "[1 1 1 2 2 2 3 3 3]\n",
      "[[1 2 3]\n",
      " [1 2 3]\n",
      " [1 2 3]]\n"
     ]
    }
   ],
   "source": [
    "#Repeating arrays\n",
    "x4 = np.array([[1,2,3]])\n",
    "x5 = np.repeat(x4, 3)\n",
    "print(x5)\n",
    "x6 = np.repeat(x4, 3, axis=0)\n",
    "print(x6)"
   ]
  },
  {
   "cell_type": "code",
   "execution_count": 75,
   "id": "425447be",
   "metadata": {},
   "outputs": [
    {
     "name": "stdout",
     "output_type": "stream",
     "text": [
      "[ 1 99  3]\n",
      "[1 2 3]\n"
     ]
    }
   ],
   "source": [
    "#When two variables point at the same thing VS a copy\n",
    "original = np.array([1,2,3])\n",
    "copy = original\n",
    "copy[1] = 99\n",
    "print(original)\n",
    "original2 = np.array([1,2,3])\n",
    "copy2 = np.copy(original2)\n",
    "copy2[1] = 99\n",
    "print(original2)"
   ]
  },
  {
   "cell_type": "code",
   "execution_count": 82,
   "id": "46d2cb9e",
   "metadata": {},
   "outputs": [
    {
     "name": "stdout",
     "output_type": "stream",
     "text": [
      "[3 4 5]\n",
      "[-1  0  1]\n",
      "[2 4 6]\n",
      "[0.5 1.  1.5]\n",
      "[5 7 9]\n",
      "[ 4 10 18]\n"
     ]
    }
   ],
   "source": [
    "#Mathematical opperations\n",
    "a = np.array([1,2,3])\n",
    "print(a + 2)\n",
    "print(a - 2)\n",
    "print(a * 2)\n",
    "print(a / 2)\n",
    "b = np.array([4,5,6])\n",
    "print(a + b)\n",
    "print(a * b)"
   ]
  },
  {
   "cell_type": "code",
   "execution_count": 88,
   "id": "1c91bc21",
   "metadata": {},
   "outputs": [
    {
     "data": {
      "text/plain": [
       "array([[6., 6.],\n",
       "       [6., 6.]])"
      ]
     },
     "execution_count": 88,
     "metadata": {},
     "output_type": "execute_result"
    }
   ],
   "source": [
    "#Multiplying for linear algebra\n",
    "dim1 = np.ones((2,3))\n",
    "dim2 = np.full((3,2),2)\n",
    "np.matmul(dim1,dim2)"
   ]
  },
  {
   "cell_type": "code",
   "execution_count": 90,
   "id": "494ebe8a",
   "metadata": {},
   "outputs": [
    {
     "data": {
      "text/plain": [
       "1.0"
      ]
     },
     "execution_count": 90,
     "metadata": {},
     "output_type": "execute_result"
    }
   ],
   "source": [
    "#Determinant\n",
    "dim3 = np.identity(3)\n",
    "np.linalg.det(dim3)"
   ]
  },
  {
   "cell_type": "code",
   "execution_count": 91,
   "id": "99dd2805",
   "metadata": {},
   "outputs": [
    {
     "data": {
      "text/plain": [
       "1"
      ]
     },
     "execution_count": 91,
     "metadata": {},
     "output_type": "execute_result"
    }
   ],
   "source": [
    "#Statistics\n",
    "stat1 = np.array([[1,2,3],[4,5,6]])\n",
    "np.min(stat1)"
   ]
  },
  {
   "cell_type": "code",
   "execution_count": 92,
   "id": "7037e652",
   "metadata": {},
   "outputs": [
    {
     "data": {
      "text/plain": [
       "6"
      ]
     },
     "execution_count": 92,
     "metadata": {},
     "output_type": "execute_result"
    }
   ],
   "source": [
    "np.max(stat1)"
   ]
  },
  {
   "cell_type": "code",
   "execution_count": 93,
   "id": "10b3a579",
   "metadata": {},
   "outputs": [
    {
     "data": {
      "text/plain": [
       "array([3, 6])"
      ]
     },
     "execution_count": 93,
     "metadata": {},
     "output_type": "execute_result"
    }
   ],
   "source": [
    "np.max(stat1, axis=1)"
   ]
  },
  {
   "cell_type": "code",
   "execution_count": 94,
   "id": "7a027bf1",
   "metadata": {},
   "outputs": [
    {
     "data": {
      "text/plain": [
       "21"
      ]
     },
     "execution_count": 94,
     "metadata": {},
     "output_type": "execute_result"
    }
   ],
   "source": [
    "np.sum(stat1)"
   ]
  },
  {
   "cell_type": "code",
   "execution_count": 98,
   "id": "591beab5",
   "metadata": {},
   "outputs": [
    {
     "name": "stdout",
     "output_type": "stream",
     "text": [
      "[[1 2 3 4]\n",
      " [5 6 7 8]]\n",
      "[[1]\n",
      " [2]\n",
      " [3]\n",
      " [4]\n",
      " [5]\n",
      " [6]\n",
      " [7]\n",
      " [8]]\n"
     ]
    }
   ],
   "source": [
    "#Reorganizing arrays\n",
    "org1 = np.array([[1,2,3,4],[5,6,7,8]])\n",
    "print(org1)\n",
    "org2 = org1.reshape(8,1)\n",
    "print(org2)"
   ]
  },
  {
   "cell_type": "code",
   "execution_count": 100,
   "id": "329c3376",
   "metadata": {},
   "outputs": [
    {
     "data": {
      "text/plain": [
       "array([[1, 2, 3],\n",
       "       [4, 5, 6]])"
      ]
     },
     "execution_count": 100,
     "metadata": {},
     "output_type": "execute_result"
    }
   ],
   "source": [
    "#Vertical stacking\n",
    "v1 = np.array([1,2,3])\n",
    "v2 = np.array([4,5,6])\n",
    "np.vstack([v1,v2])"
   ]
  },
  {
   "cell_type": "code",
   "execution_count": 101,
   "id": "fdb8948e",
   "metadata": {},
   "outputs": [
    {
     "data": {
      "text/plain": [
       "array([1, 2, 3, 4, 5, 6])"
      ]
     },
     "execution_count": 101,
     "metadata": {},
     "output_type": "execute_result"
    }
   ],
   "source": [
    "#Horizontal stacking\n",
    "np.hstack([v1,v2])"
   ]
  },
  {
   "cell_type": "code",
   "execution_count": 102,
   "id": "b7998927",
   "metadata": {},
   "outputs": [
    {
     "data": {
      "text/plain": [
       "array([1., 2., 3., 4.])"
      ]
     },
     "execution_count": 102,
     "metadata": {},
     "output_type": "execute_result"
    }
   ],
   "source": [
    "#Import data\n",
    "np.genfromtxt('gen.txt', delimiter = ',')"
   ]
  },
  {
   "cell_type": "code",
   "execution_count": 105,
   "id": "fc51ca81",
   "metadata": {},
   "outputs": [
    {
     "name": "stdout",
     "output_type": "stream",
     "text": [
      "[1 2 3 4]\n"
     ]
    }
   ],
   "source": [
    "#Always casts as float, can convert with astype\n",
    "gen = np.genfromtxt('gen.txt', delimiter = ',').astype('int32')\n",
    "print(gen)"
   ]
  },
  {
   "cell_type": "code",
   "execution_count": 106,
   "id": "ece8a8cc",
   "metadata": {},
   "outputs": [
    {
     "data": {
      "text/plain": [
       "array([False, False,  True,  True])"
      ]
     },
     "execution_count": 106,
     "metadata": {},
     "output_type": "execute_result"
    }
   ],
   "source": [
    "# Boolean operations\n",
    "gen>2"
   ]
  },
  {
   "cell_type": "code",
   "execution_count": 107,
   "id": "e32f8521",
   "metadata": {},
   "outputs": [
    {
     "data": {
      "text/plain": [
       "array([3, 4], dtype=int32)"
      ]
     },
     "execution_count": 107,
     "metadata": {},
     "output_type": "execute_result"
    }
   ],
   "source": [
    "# Index by boolean parameters\n",
    "gen[gen>2]"
   ]
  },
  {
   "cell_type": "code",
   "execution_count": 109,
   "id": "5d81560e",
   "metadata": {},
   "outputs": [
    {
     "data": {
      "text/plain": [
       "array([1, 2, 4], dtype=int32)"
      ]
     },
     "execution_count": 109,
     "metadata": {},
     "output_type": "execute_result"
    }
   ],
   "source": [
    "# You can also index with lists\n",
    "gen[[0,1,3]]"
   ]
  },
  {
   "cell_type": "code",
   "execution_count": null,
   "id": "9565519c",
   "metadata": {},
   "outputs": [],
   "source": [
    "# That concludes the absolute basics of NumPy"
   ]
  }
 ],
 "metadata": {
  "kernelspec": {
   "display_name": "Python 3 (ipykernel)",
   "language": "python",
   "name": "python3"
  },
  "language_info": {
   "codemirror_mode": {
    "name": "ipython",
    "version": 3
   },
   "file_extension": ".py",
   "mimetype": "text/x-python",
   "name": "python",
   "nbconvert_exporter": "python",
   "pygments_lexer": "ipython3",
   "version": "3.12.3"
  }
 },
 "nbformat": 4,
 "nbformat_minor": 5
}
